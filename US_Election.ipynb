{
 "cells": [
  {
   "cell_type": "markdown",
   "metadata": {},
   "source": [
    "# Practice 3: US Election"
   ]
  },
  {
   "cell_type": "markdown",
   "metadata": {},
   "source": [
    "Utilise the dataset \"2020_US_Election.csv\" for data retrieval to gain insights into the specific requirements aimed at understanding the dynamics of the US election."
   ]
  },
  {
   "cell_type": "markdown",
   "metadata": {},
   "source": [
    "Import pandas"
   ]
  },
  {
   "cell_type": "code",
   "execution_count": 20,
   "metadata": {
    "ExecuteTime": {
     "end_time": "2023-11-13T11:35:10.135309400Z",
     "start_time": "2023-11-13T11:35:10.044310100Z"
    }
   },
   "outputs": [],
   "source": [
    "# write your code here\n",
    "import pandas as pd\n"
   ]
  },
  {
   "cell_type": "markdown",
   "metadata": {},
   "source": [
    "Read dataset from csv file and set index column as state"
   ]
  },
  {
   "cell_type": "code",
   "execution_count": 21,
   "metadata": {
    "ExecuteTime": {
     "end_time": "2023-11-13T11:35:10.154731Z",
     "start_time": "2023-11-13T11:35:10.052229700Z"
    }
   },
   "outputs": [],
   "source": [
    "#Write your code here\n",
    "df = pd.read_csv('2020_US_Election.csv', index_col='state')"
   ]
  },
  {
   "cell_type": "markdown",
   "metadata": {},
   "source": [
    "Showing the first 10 records from the dataset"
   ]
  },
  {
   "cell_type": "code",
   "execution_count": 22,
   "metadata": {
    "ExecuteTime": {
     "end_time": "2023-11-13T11:35:10.205033700Z",
     "start_time": "2023-11-13T11:35:10.061085200Z"
    }
   },
   "outputs": [
    {
     "data": {
      "text/plain": "        state_po  state_fips  state_cen  state_ic  \\\nstate                                               \nALABAMA       AL           1         63        41   \nALABAMA       AL           1         63        41   \nALABAMA       AL           1         63        41   \nALABAMA       AL           1         63        41   \nALASKA        AK           2         94        81   \nALASKA        AK           2         94        81   \nALASKA        AK           2         94        81   \nALASKA        AK           2         94        81   \nALASKA        AK           2         94        81   \nALASKA        AK           2         94        81   \n\n                               candidate party_detailed writein  \\\nstate                                                             \nALABAMA              BIDEN, JOSEPH R. JR       DEMOCRAT   False   \nALABAMA                 TRUMP, DONALD J.     REPUBLICAN   False   \nALABAMA                    JORGENSEN, JO    LIBERTARIAN   False   \nALABAMA                              NaN            NaN    True   \nALASKA               BIDEN, JOSEPH R. JR       DEMOCRAT   False   \nALASKA                  TRUMP, DONALD J.     REPUBLICAN   False   \nALASKA                     JORGENSEN, JO    LIBERTARIAN   False   \nALASKA     DE LA FUENTE, ROQUE \"\"ROCKY\"\"       ALLIANCE   False   \nALASKA                     PIERCE, BROCK    INDEPENDENT   False   \nALASKA   JANOS, JAMES G. \"JESSE VENTURA\"          GREEN   False   \n\n         candidatevotes  totalvotes   version party_simplified  \nstate                                                           \nALABAMA          849624     2323282  20210113         DEMOCRAT  \nALABAMA         1441170     2323282  20210113       REPUBLICAN  \nALABAMA           25176     2323282  20210113      LIBERTARIAN  \nALABAMA            7312     2323282  20210113            OTHER  \nALASKA           153778      359530  20210113         DEMOCRAT  \nALASKA           189951      359530  20210113       REPUBLICAN  \nALASKA             8897      359530  20210113      LIBERTARIAN  \nALASKA              318      359530  20210113            OTHER  \nALASKA              825      359530  20210113            OTHER  \nALASKA             2673      359530  20210113            OTHER  ",
      "text/html": "<div>\n<style scoped>\n    .dataframe tbody tr th:only-of-type {\n        vertical-align: middle;\n    }\n\n    .dataframe tbody tr th {\n        vertical-align: top;\n    }\n\n    .dataframe thead th {\n        text-align: right;\n    }\n</style>\n<table border=\"1\" class=\"dataframe\">\n  <thead>\n    <tr style=\"text-align: right;\">\n      <th></th>\n      <th>state_po</th>\n      <th>state_fips</th>\n      <th>state_cen</th>\n      <th>state_ic</th>\n      <th>candidate</th>\n      <th>party_detailed</th>\n      <th>writein</th>\n      <th>candidatevotes</th>\n      <th>totalvotes</th>\n      <th>version</th>\n      <th>party_simplified</th>\n    </tr>\n    <tr>\n      <th>state</th>\n      <th></th>\n      <th></th>\n      <th></th>\n      <th></th>\n      <th></th>\n      <th></th>\n      <th></th>\n      <th></th>\n      <th></th>\n      <th></th>\n      <th></th>\n    </tr>\n  </thead>\n  <tbody>\n    <tr>\n      <th>ALABAMA</th>\n      <td>AL</td>\n      <td>1</td>\n      <td>63</td>\n      <td>41</td>\n      <td>BIDEN, JOSEPH R. JR</td>\n      <td>DEMOCRAT</td>\n      <td>False</td>\n      <td>849624</td>\n      <td>2323282</td>\n      <td>20210113</td>\n      <td>DEMOCRAT</td>\n    </tr>\n    <tr>\n      <th>ALABAMA</th>\n      <td>AL</td>\n      <td>1</td>\n      <td>63</td>\n      <td>41</td>\n      <td>TRUMP, DONALD J.</td>\n      <td>REPUBLICAN</td>\n      <td>False</td>\n      <td>1441170</td>\n      <td>2323282</td>\n      <td>20210113</td>\n      <td>REPUBLICAN</td>\n    </tr>\n    <tr>\n      <th>ALABAMA</th>\n      <td>AL</td>\n      <td>1</td>\n      <td>63</td>\n      <td>41</td>\n      <td>JORGENSEN, JO</td>\n      <td>LIBERTARIAN</td>\n      <td>False</td>\n      <td>25176</td>\n      <td>2323282</td>\n      <td>20210113</td>\n      <td>LIBERTARIAN</td>\n    </tr>\n    <tr>\n      <th>ALABAMA</th>\n      <td>AL</td>\n      <td>1</td>\n      <td>63</td>\n      <td>41</td>\n      <td>NaN</td>\n      <td>NaN</td>\n      <td>True</td>\n      <td>7312</td>\n      <td>2323282</td>\n      <td>20210113</td>\n      <td>OTHER</td>\n    </tr>\n    <tr>\n      <th>ALASKA</th>\n      <td>AK</td>\n      <td>2</td>\n      <td>94</td>\n      <td>81</td>\n      <td>BIDEN, JOSEPH R. JR</td>\n      <td>DEMOCRAT</td>\n      <td>False</td>\n      <td>153778</td>\n      <td>359530</td>\n      <td>20210113</td>\n      <td>DEMOCRAT</td>\n    </tr>\n    <tr>\n      <th>ALASKA</th>\n      <td>AK</td>\n      <td>2</td>\n      <td>94</td>\n      <td>81</td>\n      <td>TRUMP, DONALD J.</td>\n      <td>REPUBLICAN</td>\n      <td>False</td>\n      <td>189951</td>\n      <td>359530</td>\n      <td>20210113</td>\n      <td>REPUBLICAN</td>\n    </tr>\n    <tr>\n      <th>ALASKA</th>\n      <td>AK</td>\n      <td>2</td>\n      <td>94</td>\n      <td>81</td>\n      <td>JORGENSEN, JO</td>\n      <td>LIBERTARIAN</td>\n      <td>False</td>\n      <td>8897</td>\n      <td>359530</td>\n      <td>20210113</td>\n      <td>LIBERTARIAN</td>\n    </tr>\n    <tr>\n      <th>ALASKA</th>\n      <td>AK</td>\n      <td>2</td>\n      <td>94</td>\n      <td>81</td>\n      <td>DE LA FUENTE, ROQUE \"\"ROCKY\"\"</td>\n      <td>ALLIANCE</td>\n      <td>False</td>\n      <td>318</td>\n      <td>359530</td>\n      <td>20210113</td>\n      <td>OTHER</td>\n    </tr>\n    <tr>\n      <th>ALASKA</th>\n      <td>AK</td>\n      <td>2</td>\n      <td>94</td>\n      <td>81</td>\n      <td>PIERCE, BROCK</td>\n      <td>INDEPENDENT</td>\n      <td>False</td>\n      <td>825</td>\n      <td>359530</td>\n      <td>20210113</td>\n      <td>OTHER</td>\n    </tr>\n    <tr>\n      <th>ALASKA</th>\n      <td>AK</td>\n      <td>2</td>\n      <td>94</td>\n      <td>81</td>\n      <td>JANOS, JAMES G. \"JESSE VENTURA\"</td>\n      <td>GREEN</td>\n      <td>False</td>\n      <td>2673</td>\n      <td>359530</td>\n      <td>20210113</td>\n      <td>OTHER</td>\n    </tr>\n  </tbody>\n</table>\n</div>"
     },
     "execution_count": 22,
     "metadata": {},
     "output_type": "execute_result"
    }
   ],
   "source": [
    "#Write your code here\n",
    "df.head(10)\n"
   ]
  },
  {
   "cell_type": "markdown",
   "metadata": {},
   "source": [
    "Slice last 10 rows from the dataframe and shown only  column 'state','candidate' and 'candidatevotes' and assign the result selected_columns variable using `.loc[]` or `.iloc[]`"
   ]
  },
  {
   "cell_type": "code",
   "execution_count": 23,
   "metadata": {
    "ExecuteTime": {
     "end_time": "2023-11-13T11:35:10.218172200Z",
     "start_time": "2023-11-13T11:35:10.071354400Z"
    }
   },
   "outputs": [],
   "source": [
    "#Write your code here\n",
    "selected_columns = df.iloc[-10:, [4, 7]]\n"
   ]
  },
  {
   "cell_type": "markdown",
   "metadata": {},
   "source": [
    "Slice every rows from the column 'candidate' to the end of the dataframe and assign the result to right_columns variable using `.loc[]`"
   ]
  },
  {
   "cell_type": "code",
   "execution_count": 24,
   "metadata": {
    "ExecuteTime": {
     "end_time": "2023-11-13T11:35:10.221517300Z",
     "start_time": "2023-11-13T11:35:10.080508500Z"
    }
   },
   "outputs": [
    {
     "name": "stdout",
     "output_type": "stream",
     "text": [
      "                   candidate party_detailed writein  candidatevotes  \\\n",
      "state                                                                 \n",
      "ALABAMA  BIDEN, JOSEPH R. JR       DEMOCRAT   False          849624   \n",
      "ALABAMA     TRUMP, DONALD J.     REPUBLICAN   False         1441170   \n",
      "ALABAMA        JORGENSEN, JO    LIBERTARIAN   False           25176   \n",
      "ALABAMA                  NaN            NaN    True            7312   \n",
      "ALASKA   BIDEN, JOSEPH R. JR       DEMOCRAT   False          153778   \n",
      "...                      ...            ...     ...             ...   \n",
      "WYOMING        JORGENSEN, JO    LIBERTARIAN   False            5768   \n",
      "WYOMING        PIERCE, BROCK    INDEPENDENT   False            2208   \n",
      "WYOMING                  NaN            NaN    True            1739   \n",
      "WYOMING            OVERVOTES            NaN   False             279   \n",
      "WYOMING           UNDERVOTES            NaN   False            1459   \n",
      "\n",
      "         totalvotes   version party_simplified  \n",
      "state                                           \n",
      "ALABAMA     2323282  20210113         DEMOCRAT  \n",
      "ALABAMA     2323282  20210113       REPUBLICAN  \n",
      "ALABAMA     2323282  20210113      LIBERTARIAN  \n",
      "ALABAMA     2323282  20210113            OTHER  \n",
      "ALASKA       359530  20210113         DEMOCRAT  \n",
      "...             ...       ...              ...  \n",
      "WYOMING      278503  20210113      LIBERTARIAN  \n",
      "WYOMING      278503  20210113            OTHER  \n",
      "WYOMING      278503  20210113            OTHER  \n",
      "WYOMING      278503  20210113            OTHER  \n",
      "WYOMING      278503  20210113            OTHER  \n",
      "\n",
      "[547 rows x 7 columns]\n"
     ]
    }
   ],
   "source": [
    "#Write your code here\n",
    "right_columns = df.loc[:, 'candidate':]\n",
    "print(right_columns)\n"
   ]
  },
  {
   "cell_type": "markdown",
   "metadata": {},
   "source": [
    "Print the first 10 rows of right_columns using pretty print to_markdown"
   ]
  },
  {
   "cell_type": "code",
   "execution_count": 25,
   "metadata": {
    "ExecuteTime": {
     "end_time": "2023-11-13T11:35:10.223522600Z",
     "start_time": "2023-11-13T11:35:10.091468600Z"
    }
   },
   "outputs": [
    {
     "name": "stdout",
     "output_type": "stream",
     "text": [
      "| state   | candidate                       | party_detailed   | writein   |   candidatevotes |   totalvotes |   version | party_simplified   |\n",
      "|:--------|:--------------------------------|:-----------------|:----------|-----------------:|-------------:|----------:|:-------------------|\n",
      "| ALABAMA | BIDEN, JOSEPH R. JR             | DEMOCRAT         | False     |           849624 |      2323282 |  20210113 | DEMOCRAT           |\n",
      "| ALABAMA | TRUMP, DONALD J.                | REPUBLICAN       | False     |          1441170 |      2323282 |  20210113 | REPUBLICAN         |\n",
      "| ALABAMA | JORGENSEN, JO                   | LIBERTARIAN      | False     |            25176 |      2323282 |  20210113 | LIBERTARIAN        |\n",
      "| ALABAMA | nan                             | nan              | True      |             7312 |      2323282 |  20210113 | OTHER              |\n",
      "| ALASKA  | BIDEN, JOSEPH R. JR             | DEMOCRAT         | False     |           153778 |       359530 |  20210113 | DEMOCRAT           |\n",
      "| ALASKA  | TRUMP, DONALD J.                | REPUBLICAN       | False     |           189951 |       359530 |  20210113 | REPUBLICAN         |\n",
      "| ALASKA  | JORGENSEN, JO                   | LIBERTARIAN      | False     |             8897 |       359530 |  20210113 | LIBERTARIAN        |\n",
      "| ALASKA  | DE LA FUENTE, ROQUE \"\"ROCKY\"\"   | ALLIANCE         | False     |              318 |       359530 |  20210113 | OTHER              |\n",
      "| ALASKA  | PIERCE, BROCK                   | INDEPENDENT      | False     |              825 |       359530 |  20210113 | OTHER              |\n",
      "| ALASKA  | JANOS, JAMES G. \"JESSE VENTURA\" | GREEN            | False     |             2673 |       359530 |  20210113 | OTHER              |\n"
     ]
    }
   ],
   "source": [
    "#Write your code here\n",
    "print(right_columns.head(10).to_markdown())\n"
   ]
  },
  {
   "cell_type": "markdown",
   "metadata": {},
   "source": [
    "Create a new DataFrame to show the states with the most electors: California using `.loc[]`, and assign it to most_electors_state. Hint: You need to use an index property and column condition"
   ]
  },
  {
   "cell_type": "code",
   "execution_count": 32,
   "metadata": {
    "ExecuteTime": {
     "end_time": "2023-11-13T11:46:47.844298200Z",
     "start_time": "2023-11-13T11:46:47.816310200Z"
    }
   },
   "outputs": [
    {
     "name": "stdout",
     "output_type": "stream",
     "text": [
      "           state_po  state_fips  state_cen  state_ic  \\\n",
      "state                                                  \n",
      "CALIFORNIA       CA           6         93        71   \n",
      "CALIFORNIA       CA           6         93        71   \n",
      "CALIFORNIA       CA           6         93        71   \n",
      "CALIFORNIA       CA           6         93        71   \n",
      "CALIFORNIA       CA           6         93        71   \n",
      "CALIFORNIA       CA           6         93        71   \n",
      "CALIFORNIA       CA           6         93        71   \n",
      "CALIFORNIA       CA           6         93        71   \n",
      "CALIFORNIA       CA           6         93        71   \n",
      "CALIFORNIA       CA           6         93        71   \n",
      "CALIFORNIA       CA           6         93        71   \n",
      "\n",
      "                                  candidate             party_detailed  \\\n",
      "state                                                                    \n",
      "CALIFORNIA              BIDEN, JOSEPH R. JR                   DEMOCRAT   \n",
      "CALIFORNIA                 TRUMP, DONALD J.                 REPUBLICAN   \n",
      "CALIFORNIA                    JORGENSEN, JO                LIBERTARIAN   \n",
      "CALIFORNIA                   HAWKINS, HOWIE                      GREEN   \n",
      "CALIFORNIA    DE LA FUENTE, ROQUE \"\"ROCKY\"\"       AMERICAN INDEPENDENT   \n",
      "CALIFORNIA          LA RIVA, GLORIA ESTELLA            PEACE & FREEDOM   \n",
      "CALIFORNIA                   CARROLL, BRIAN  AMERICAN SOLIDARITY PARTY   \n",
      "CALIFORNIA  JANOS, JAMES G. \"JESSE VENTURA\"                INDEPENDENT   \n",
      "CALIFORNIA                     MARK CHARLES                INDEPENDENT   \n",
      "CALIFORNIA                    PIERCE, BROCK                INDEPENDENT   \n",
      "CALIFORNIA                   JOSEPH KISHORE                INDEPENDENT   \n",
      "\n",
      "           writein  candidatevotes  totalvotes   version party_simplified  \n",
      "state                                                                      \n",
      "CALIFORNIA   False        11110250    17500881  20210113         DEMOCRAT  \n",
      "CALIFORNIA   False         6006429    17500881  20210113       REPUBLICAN  \n",
      "CALIFORNIA   False          187895    17500881  20210113      LIBERTARIAN  \n",
      "CALIFORNIA   False           81029    17500881  20210113            OTHER  \n",
      "CALIFORNIA   False           60160    17500881  20210113            OTHER  \n",
      "CALIFORNIA   False           51037    17500881  20210113            OTHER  \n",
      "CALIFORNIA    True            2605    17500881  20210113            OTHER  \n",
      "CALIFORNIA    True             611    17500881  20210113            OTHER  \n",
      "CALIFORNIA    True             559    17500881  20210113            OTHER  \n",
      "CALIFORNIA    True             185    17500881  20210113            OTHER  \n",
      "CALIFORNIA    True             121    17500881  20210113            OTHER  \n"
     ]
    }
   ],
   "source": [
    "#Write your code here\n",
    "\n",
    "most_electors_state = df.loc[df.index == 'CALIFORNIA']\n",
    "print(most_electors_state)"
   ]
  },
  {
   "cell_type": "markdown",
   "metadata": {},
   "source": [
    "Print the most_electors_state DataFrame using pretty print to_markdown"
   ]
  },
  {
   "cell_type": "code",
   "execution_count": 33,
   "metadata": {
    "ExecuteTime": {
     "end_time": "2023-11-13T11:48:06.781528300Z",
     "start_time": "2023-11-13T11:48:06.757205800Z"
    }
   },
   "outputs": [
    {
     "name": "stdout",
     "output_type": "stream",
     "text": [
      "| state      | state_po   |   state_fips |   state_cen |   state_ic | candidate                       | party_detailed            | writein   |   candidatevotes |   totalvotes |   version | party_simplified   |\n",
      "|:-----------|:-----------|-------------:|------------:|-----------:|:--------------------------------|:--------------------------|:----------|-----------------:|-------------:|----------:|:-------------------|\n",
      "| CALIFORNIA | CA         |            6 |          93 |         71 | BIDEN, JOSEPH R. JR             | DEMOCRAT                  | False     |         11110250 |     17500881 |  20210113 | DEMOCRAT           |\n",
      "| CALIFORNIA | CA         |            6 |          93 |         71 | TRUMP, DONALD J.                | REPUBLICAN                | False     |          6006429 |     17500881 |  20210113 | REPUBLICAN         |\n",
      "| CALIFORNIA | CA         |            6 |          93 |         71 | JORGENSEN, JO                   | LIBERTARIAN               | False     |           187895 |     17500881 |  20210113 | LIBERTARIAN        |\n",
      "| CALIFORNIA | CA         |            6 |          93 |         71 | HAWKINS, HOWIE                  | GREEN                     | False     |            81029 |     17500881 |  20210113 | OTHER              |\n",
      "| CALIFORNIA | CA         |            6 |          93 |         71 | DE LA FUENTE, ROQUE \"\"ROCKY\"\"   | AMERICAN INDEPENDENT      | False     |            60160 |     17500881 |  20210113 | OTHER              |\n",
      "| CALIFORNIA | CA         |            6 |          93 |         71 | LA RIVA, GLORIA ESTELLA         | PEACE & FREEDOM           | False     |            51037 |     17500881 |  20210113 | OTHER              |\n",
      "| CALIFORNIA | CA         |            6 |          93 |         71 | CARROLL, BRIAN                  | AMERICAN SOLIDARITY PARTY | True      |             2605 |     17500881 |  20210113 | OTHER              |\n",
      "| CALIFORNIA | CA         |            6 |          93 |         71 | JANOS, JAMES G. \"JESSE VENTURA\" | INDEPENDENT               | True      |              611 |     17500881 |  20210113 | OTHER              |\n",
      "| CALIFORNIA | CA         |            6 |          93 |         71 | MARK CHARLES                    | INDEPENDENT               | True      |              559 |     17500881 |  20210113 | OTHER              |\n",
      "| CALIFORNIA | CA         |            6 |          93 |         71 | PIERCE, BROCK                   | INDEPENDENT               | True      |              185 |     17500881 |  20210113 | OTHER              |\n",
      "| CALIFORNIA | CA         |            6 |          93 |         71 | JOSEPH KISHORE                  | INDEPENDENT               | True      |              121 |     17500881 |  20210113 | OTHER              |\n"
     ]
    }
   ],
   "source": [
    "#Write your code here\n",
    "\n",
    "print(most_electors_state.to_markdown())"
   ]
  },
  {
   "cell_type": "markdown",
   "metadata": {},
   "source": [
    "Save the data from the 'most_electors_state' dataframe to a CSV file called California_votes.csv in a folder Data"
   ]
  },
  {
   "cell_type": "code",
   "execution_count": 35,
   "metadata": {
    "ExecuteTime": {
     "end_time": "2023-11-13T11:49:48.319542200Z",
     "start_time": "2023-11-13T11:49:48.294814Z"
    }
   },
   "outputs": [],
   "source": [
    "#Write your code here\n",
    "most_electors_state.to_csv('California_votes.csv')"
   ]
  },
  {
   "cell_type": "markdown",
   "metadata": {},
   "source": [
    "------------------------------------------- End of Practice-------------------------------------------"
   ]
  }
 ],
 "metadata": {
  "kernelspec": {
   "display_name": "Python 3 (ipykernel)",
   "language": "python",
   "name": "python3"
  },
  "language_info": {
   "codemirror_mode": {
    "name": "ipython",
    "version": 3
   },
   "file_extension": ".py",
   "mimetype": "text/x-python",
   "name": "python",
   "nbconvert_exporter": "python",
   "pygments_lexer": "ipython3",
   "version": "3.9.12"
  },
  "toc": {
   "nav_menu": {
    "height": "48px",
    "width": "252px"
   },
   "number_sections": true,
   "sideBar": true,
   "skip_h1_title": false,
   "toc_cell": false,
   "toc_position": {},
   "toc_section_display": "block",
   "toc_window_display": false
  }
 },
 "nbformat": 4,
 "nbformat_minor": 2
}
