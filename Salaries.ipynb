{
 "cells": [
  {
   "cell_type": "markdown",
   "id": "f614d9d8",
   "metadata": {},
   "source": [
    "# Practice 1: Salaries"
   ]
  },
  {
   "cell_type": "markdown",
   "id": "917968fc",
   "metadata": {},
   "source": [
    "Utilising the file named 'Salaries.csv,' which holds data regarding the salaries of academic staff members across different positions, perform a series of tasks to extract information according to particular requirements or answer the questions."
   ]
  },
  {
   "cell_type": "markdown",
   "id": "dada7898",
   "metadata": {},
   "source": [
    "Import pandas"
   ]
  },
  {
   "cell_type": "code",
   "execution_count": 1,
   "id": "e9e0d4aa",
   "metadata": {
    "ExecuteTime": {
     "end_time": "2023-11-13T10:58:49.688232200Z",
     "start_time": "2023-11-13T10:58:49.234862200Z"
    }
   },
   "outputs": [],
   "source": [
    "import pandas as pd"
   ]
  },
  {
   "cell_type": "markdown",
   "id": "5b738d83",
   "metadata": {},
   "source": [
    "Read this csv into a dataframe called df"
   ]
  },
  {
   "cell_type": "code",
   "execution_count": 2,
   "id": "153ba4d7",
   "metadata": {
    "ExecuteTime": {
     "end_time": "2023-11-13T10:59:05.121017Z",
     "start_time": "2023-11-13T10:59:05.109794300Z"
    }
   },
   "outputs": [],
   "source": [
    "df = pd.read_csv('Salaries.csv')"
   ]
  },
  {
   "cell_type": "markdown",
   "id": "94c48d3f",
   "metadata": {},
   "source": [
    "Showing the first 20 records from the dataframe"
   ]
  },
  {
   "cell_type": "code",
   "execution_count": 3,
   "id": "88ccf6bd",
   "metadata": {
    "ExecuteTime": {
     "end_time": "2023-11-13T10:59:23.260300500Z",
     "start_time": "2023-11-13T10:59:23.240735400Z"
    }
   },
   "outputs": [
    {
     "name": "stdout",
     "output_type": "stream",
     "text": [
      "         rank discipline  phd  service gender  salary\n",
      "0        Prof          B   56       49   Male  186960\n",
      "1        Prof          A   12        6   Male   93000\n",
      "2        Prof          A   23       20   Male  110515\n",
      "3        Prof          A   40       31   Male  131205\n",
      "4        Prof          B   20       18   Male  104800\n",
      "5        Prof          A   20       20   Male  122400\n",
      "6   AssocProf          A   20       17   Male   81285\n",
      "7        Prof          A   18       18   Male  126300\n",
      "8        Prof          A   29       19   Male   94350\n",
      "9        Prof          A   51       51   Male   57800\n",
      "10       Prof          B   39       33   Male  128250\n",
      "11       Prof          B   23       23   Male  134778\n",
      "12   AsstProf          B    1        0   Male   88000\n",
      "13       Prof          B   35       33   Male  162200\n",
      "14       Prof          B   25       19   Male  153750\n",
      "15       Prof          B   17        3   Male  150480\n",
      "16   AsstProf          B    8        3   Male   75044\n",
      "17   AsstProf          B    4        0   Male   92000\n",
      "18       Prof          A   19        7   Male  107300\n",
      "19       Prof          A   29       27   Male  150500\n"
     ]
    }
   ],
   "source": [
    "print(df.head(20))"
   ]
  },
  {
   "cell_type": "markdown",
   "id": "f2a003d1",
   "metadata": {},
   "source": [
    "What are the columns names?"
   ]
  },
  {
   "cell_type": "code",
   "execution_count": 4,
   "id": "e647a796",
   "metadata": {
    "ExecuteTime": {
     "end_time": "2023-11-13T11:00:18.685845700Z",
     "start_time": "2023-11-13T11:00:18.647942700Z"
    }
   },
   "outputs": [
    {
     "data": {
      "text/plain": "Index(['rank', 'discipline', 'phd', 'service', 'gender', 'salary'], dtype='object')"
     },
     "execution_count": 4,
     "metadata": {},
     "output_type": "execute_result"
    }
   ],
   "source": [
    "df.columns"
   ]
  },
  {
   "cell_type": "markdown",
   "id": "a1e144aa",
   "metadata": {},
   "source": [
    "What are data types of columns we have in this data frame?"
   ]
  },
  {
   "cell_type": "code",
   "execution_count": 5,
   "id": "8e85b4d5",
   "metadata": {
    "ExecuteTime": {
     "end_time": "2023-11-13T11:00:32.603440300Z",
     "start_time": "2023-11-13T11:00:32.590044Z"
    }
   },
   "outputs": [
    {
     "data": {
      "text/plain": "rank          object\ndiscipline    object\nphd            int64\nservice        int64\ngender        object\nsalary         int64\ndtype: object"
     },
     "execution_count": 5,
     "metadata": {},
     "output_type": "execute_result"
    }
   ],
   "source": [
    "df.dtypes"
   ]
  },
  {
   "cell_type": "markdown",
   "id": "b5904ae7",
   "metadata": {},
   "source": [
    "Select rank, gender and salary columns and display the results on screen"
   ]
  },
  {
   "cell_type": "code",
   "execution_count": 8,
   "id": "dbaec798",
   "metadata": {
    "ExecuteTime": {
     "end_time": "2023-11-13T11:02:31.000770400Z",
     "start_time": "2023-11-13T11:02:30.969595Z"
    }
   },
   "outputs": [
    {
     "data": {
      "text/plain": "         rank  gender  salary\n0        Prof    Male  186960\n1        Prof    Male   93000\n2        Prof    Male  110515\n3        Prof    Male  131205\n4        Prof    Male  104800\n..        ...     ...     ...\n73       Prof  Female  105450\n74  AssocProf  Female  104542\n75       Prof  Female  124312\n76       Prof  Female  109954\n77       Prof  Female  109646\n\n[78 rows x 3 columns]",
      "text/html": "<div>\n<style scoped>\n    .dataframe tbody tr th:only-of-type {\n        vertical-align: middle;\n    }\n\n    .dataframe tbody tr th {\n        vertical-align: top;\n    }\n\n    .dataframe thead th {\n        text-align: right;\n    }\n</style>\n<table border=\"1\" class=\"dataframe\">\n  <thead>\n    <tr style=\"text-align: right;\">\n      <th></th>\n      <th>rank</th>\n      <th>gender</th>\n      <th>salary</th>\n    </tr>\n  </thead>\n  <tbody>\n    <tr>\n      <th>0</th>\n      <td>Prof</td>\n      <td>Male</td>\n      <td>186960</td>\n    </tr>\n    <tr>\n      <th>1</th>\n      <td>Prof</td>\n      <td>Male</td>\n      <td>93000</td>\n    </tr>\n    <tr>\n      <th>2</th>\n      <td>Prof</td>\n      <td>Male</td>\n      <td>110515</td>\n    </tr>\n    <tr>\n      <th>3</th>\n      <td>Prof</td>\n      <td>Male</td>\n      <td>131205</td>\n    </tr>\n    <tr>\n      <th>4</th>\n      <td>Prof</td>\n      <td>Male</td>\n      <td>104800</td>\n    </tr>\n    <tr>\n      <th>...</th>\n      <td>...</td>\n      <td>...</td>\n      <td>...</td>\n    </tr>\n    <tr>\n      <th>73</th>\n      <td>Prof</td>\n      <td>Female</td>\n      <td>105450</td>\n    </tr>\n    <tr>\n      <th>74</th>\n      <td>AssocProf</td>\n      <td>Female</td>\n      <td>104542</td>\n    </tr>\n    <tr>\n      <th>75</th>\n      <td>Prof</td>\n      <td>Female</td>\n      <td>124312</td>\n    </tr>\n    <tr>\n      <th>76</th>\n      <td>Prof</td>\n      <td>Female</td>\n      <td>109954</td>\n    </tr>\n    <tr>\n      <th>77</th>\n      <td>Prof</td>\n      <td>Female</td>\n      <td>109646</td>\n    </tr>\n  </tbody>\n</table>\n<p>78 rows × 3 columns</p>\n</div>"
     },
     "execution_count": 8,
     "metadata": {},
     "output_type": "execute_result"
    }
   ],
   "source": [
    "df.iloc[:,[0,4,5]]"
   ]
  },
  {
   "cell_type": "markdown",
   "id": "388beccc",
   "metadata": {},
   "source": [
    "Write the selected columns from the previous task to a new csv file called selected_salaries.csv"
   ]
  },
  {
   "cell_type": "code",
   "execution_count": 9,
   "id": "6623e786",
   "metadata": {
    "ExecuteTime": {
     "end_time": "2023-11-13T11:03:15.226456800Z",
     "start_time": "2023-11-13T11:03:15.182899900Z"
    }
   },
   "outputs": [],
   "source": [
    "df.iloc[:,[0,4,5]].to_csv('selected_salaries.csv')"
   ]
  },
  {
   "cell_type": "markdown",
   "id": "1554f2c4",
   "metadata": {},
   "source": [
    "-------------------------------End of Practice 1 --------------------------------------"
   ]
  }
 ],
 "metadata": {
  "kernelspec": {
   "name": "python3",
   "language": "python",
   "display_name": "Python 3 (ipykernel)"
  },
  "language_info": {
   "codemirror_mode": {
    "name": "ipython",
    "version": 3
   },
   "file_extension": ".py",
   "mimetype": "text/x-python",
   "name": "python",
   "nbconvert_exporter": "python",
   "pygments_lexer": "ipython3",
   "version": "3.9.12"
  }
 },
 "nbformat": 4,
 "nbformat_minor": 5
}
