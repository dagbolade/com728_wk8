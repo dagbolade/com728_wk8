{
 "cells": [
  {
   "cell_type": "markdown",
   "metadata": {
    "collapsed": true
   },
   "source": [
    "# Practice 2: Purchase Data"
   ]
  },
  {
   "cell_type": "markdown",
   "metadata": {},
   "source": [
    "Using the file \"Purchase_Data.csv,\" which contains data on purchases made at a Chinese supermarket for various products, execute the following tasks to extract information based on specific requirements. "
   ]
  },
  {
   "cell_type": "markdown",
   "metadata": {},
   "source": [
    "Import pandas"
   ]
  },
  {
   "cell_type": "code",
   "execution_count": 2,
   "metadata": {
    "ExecuteTime": {
     "end_time": "2023-11-13T11:08:44.142583100Z",
     "start_time": "2023-11-13T11:08:44.140869400Z"
    }
   },
   "outputs": [],
   "source": [
    "#Write your code here\n",
    "import pandas as pd \n"
   ]
  },
  {
   "cell_type": "markdown",
   "metadata": {},
   "source": [
    "Read this csv into a dataframe called df_data "
   ]
  },
  {
   "cell_type": "code",
   "execution_count": 3,
   "metadata": {
    "ExecuteTime": {
     "end_time": "2023-11-13T11:08:45.341296700Z",
     "start_time": "2023-11-13T11:08:45.327141600Z"
    }
   },
   "outputs": [],
   "source": [
    "#Write your code here\n",
    "df=pd.read_csv('Purchase_Data.csv')"
   ]
  },
  {
   "cell_type": "markdown",
   "metadata": {},
   "source": [
    "Use the head() method to check that you have read in the data correctly."
   ]
  },
  {
   "cell_type": "code",
   "execution_count": 4,
   "metadata": {
    "ExecuteTime": {
     "end_time": "2023-11-13T11:08:54.482394600Z",
     "start_time": "2023-11-13T11:08:54.426574800Z"
    }
   },
   "outputs": [
    {
     "data": {
      "text/plain": "   invoice_number   invoice_time store_id  product_id  category_id  num_item  \\\n0    2.020000e+11  7/15/15 10:45     G816     7000300       210101       1.0   \n1    2.020000e+11  7/15/15 12:16     G816     7070884        70203       1.0   \n2    2.020000e+11  7/15/15 12:16     G816     7070884        70203       1.0   \n3    2.020000e+11  7/15/15 12:16     G816     7070891        70401       1.0   \n4    2.020000e+11  7/15/15 12:16     G816     7090363        70401       1.0   \n\n   price  \n0    2.0  \n1    2.0  \n2    2.0  \n3    6.0  \n4    6.0  ",
      "text/html": "<div>\n<style scoped>\n    .dataframe tbody tr th:only-of-type {\n        vertical-align: middle;\n    }\n\n    .dataframe tbody tr th {\n        vertical-align: top;\n    }\n\n    .dataframe thead th {\n        text-align: right;\n    }\n</style>\n<table border=\"1\" class=\"dataframe\">\n  <thead>\n    <tr style=\"text-align: right;\">\n      <th></th>\n      <th>invoice_number</th>\n      <th>invoice_time</th>\n      <th>store_id</th>\n      <th>product_id</th>\n      <th>category_id</th>\n      <th>num_item</th>\n      <th>price</th>\n    </tr>\n  </thead>\n  <tbody>\n    <tr>\n      <th>0</th>\n      <td>2.020000e+11</td>\n      <td>7/15/15 10:45</td>\n      <td>G816</td>\n      <td>7000300</td>\n      <td>210101</td>\n      <td>1.0</td>\n      <td>2.0</td>\n    </tr>\n    <tr>\n      <th>1</th>\n      <td>2.020000e+11</td>\n      <td>7/15/15 12:16</td>\n      <td>G816</td>\n      <td>7070884</td>\n      <td>70203</td>\n      <td>1.0</td>\n      <td>2.0</td>\n    </tr>\n    <tr>\n      <th>2</th>\n      <td>2.020000e+11</td>\n      <td>7/15/15 12:16</td>\n      <td>G816</td>\n      <td>7070884</td>\n      <td>70203</td>\n      <td>1.0</td>\n      <td>2.0</td>\n    </tr>\n    <tr>\n      <th>3</th>\n      <td>2.020000e+11</td>\n      <td>7/15/15 12:16</td>\n      <td>G816</td>\n      <td>7070891</td>\n      <td>70401</td>\n      <td>1.0</td>\n      <td>6.0</td>\n    </tr>\n    <tr>\n      <th>4</th>\n      <td>2.020000e+11</td>\n      <td>7/15/15 12:16</td>\n      <td>G816</td>\n      <td>7090363</td>\n      <td>70401</td>\n      <td>1.0</td>\n      <td>6.0</td>\n    </tr>\n  </tbody>\n</table>\n</div>"
     },
     "execution_count": 4,
     "metadata": {},
     "output_type": "execute_result"
    }
   ],
   "source": [
    "#Write your code here\n",
    "df.head()"
   ]
  },
  {
   "cell_type": "markdown",
   "metadata": {},
   "source": [
    "Use the dtypes attribute to view how each column is stored"
   ]
  },
  {
   "cell_type": "code",
   "execution_count": 5,
   "metadata": {
    "ExecuteTime": {
     "end_time": "2023-11-13T11:09:08.200237100Z",
     "start_time": "2023-11-13T11:09:08.165945500Z"
    }
   },
   "outputs": [
    {
     "data": {
      "text/plain": "invoice_number    float64\ninvoice_time       object\nstore_id           object\nproduct_id          int64\ncategory_id         int64\nnum_item          float64\nprice             float64\ndtype: object"
     },
     "execution_count": 5,
     "metadata": {},
     "output_type": "execute_result"
    }
   ],
   "source": [
    "#Write your code here\n",
    "df.dtypes"
   ]
  },
  {
   "cell_type": "markdown",
   "metadata": {},
   "source": [
    "Slice the <b>first two columns</b> using .loc and store the result in a variable called result_1."
   ]
  },
  {
   "cell_type": "code",
   "execution_count": 7,
   "metadata": {
    "ExecuteTime": {
     "end_time": "2023-11-13T11:10:43.075754900Z",
     "start_time": "2023-11-13T11:10:43.033373Z"
    }
   },
   "outputs": [],
   "source": [
    "#Write you code here\n",
    "result_1 = df.loc[:, ['invoice_number', 'invoice_time']]"
   ]
  },
  {
   "cell_type": "markdown",
   "metadata": {},
   "source": [
    "Slice the <b>first two rows</b> using .loc and store the result in a variable called result_2."
   ]
  },
  {
   "cell_type": "code",
   "execution_count": 8,
   "metadata": {
    "ExecuteTime": {
     "end_time": "2023-11-13T11:11:58.536604800Z",
     "start_time": "2023-11-13T11:11:58.533600400Z"
    }
   },
   "outputs": [],
   "source": [
    "#Write you code here\n",
    "result_2 = df.loc[0:1, :]\n"
   ]
  },
  {
   "cell_type": "markdown",
   "metadata": {},
   "source": [
    "Slice the first four rows and the first five columns and store the result in a variable called result_3."
   ]
  },
  {
   "cell_type": "code",
   "execution_count": 11,
   "metadata": {
    "ExecuteTime": {
     "end_time": "2023-11-13T11:14:29.985774300Z",
     "start_time": "2023-11-13T11:14:29.962687400Z"
    }
   },
   "outputs": [],
   "source": [
    "#Write your code here\n",
    "result_3 = df.loc[0:3, ['invoice_number', 'invoice_time', 'store_id', 'product_id', 'category_id']]\n"
   ]
  },
  {
   "cell_type": "markdown",
   "metadata": {},
   "source": [
    "Slice rows 0,4,6 and columns invoice time and price and store the result in variable called result_4."
   ]
  },
  {
   "cell_type": "code",
   "execution_count": 12,
   "metadata": {
    "ExecuteTime": {
     "end_time": "2023-11-13T11:14:53.561351300Z",
     "start_time": "2023-11-13T11:14:53.533636300Z"
    }
   },
   "outputs": [],
   "source": [
    "#Write your code here\n",
    "result_4 = df.loc[[0,4,6], ['invoice_time', 'price']]\n"
   ]
  },
  {
   "cell_type": "markdown",
   "metadata": {},
   "source": [
    "Store the number rows in a variable called num_rows."
   ]
  },
  {
   "cell_type": "code",
   "execution_count": 13,
   "metadata": {
    "ExecuteTime": {
     "end_time": "2023-11-13T11:15:16.175493400Z",
     "start_time": "2023-11-13T11:15:16.172486800Z"
    }
   },
   "outputs": [],
   "source": [
    "#Write your code here\n",
    "num_rows = df.shape[0]\n"
   ]
  },
  {
   "cell_type": "markdown",
   "metadata": {},
   "source": [
    "Print out the last row of the data to dataframe. **Hint:** use the variable num_rows from the previous exercise."
   ]
  },
  {
   "cell_type": "code",
   "execution_count": 14,
   "metadata": {
    "ExecuteTime": {
     "end_time": "2023-11-13T11:15:29.908267200Z",
     "start_time": "2023-11-13T11:15:29.887677100Z"
    }
   },
   "outputs": [
    {
     "data": {
      "text/plain": "invoice_number    202000000000.0\ninvoice_time        9/5/15 23:38\nstore_id                    G619\nproduct_id              23030206\ncategory_id               210101\nnum_item                     1.0\nprice                        2.0\nName: 5381, dtype: object"
     },
     "execution_count": 14,
     "metadata": {},
     "output_type": "execute_result"
    }
   ],
   "source": [
    "#Write your code here\n",
    "df.loc[num_rows-1, :]\n"
   ]
  },
  {
   "cell_type": "markdown",
   "metadata": {},
   "source": [
    "------------------------------------------- End of Practice-------------------------------------------"
   ]
  }
 ],
 "metadata": {
  "kernelspec": {
   "display_name": "Python 3 (ipykernel)",
   "language": "python",
   "name": "python3"
  },
  "language_info": {
   "codemirror_mode": {
    "name": "ipython",
    "version": 3
   },
   "file_extension": ".py",
   "mimetype": "text/x-python",
   "name": "python",
   "nbconvert_exporter": "python",
   "pygments_lexer": "ipython3",
   "version": "3.9.12"
  },
  "toc": {
   "nav_menu": {
    "height": "48px",
    "width": "252px"
   },
   "number_sections": true,
   "sideBar": true,
   "skip_h1_title": false,
   "toc_cell": false,
   "toc_position": {},
   "toc_section_display": "block",
   "toc_window_display": false
  }
 },
 "nbformat": 4,
 "nbformat_minor": 2
}
